{
 "cells": [
  {
   "cell_type": "code",
   "execution_count": 1,
   "metadata": {},
   "outputs": [
    {
     "ename": "ModuleNotFoundError",
     "evalue": "No module named 'hls4ml'",
     "output_type": "error",
     "traceback": [
      "\u001b[0;31m---------------------------------------------------------------------------\u001b[0m",
      "\u001b[0;31mModuleNotFoundError\u001b[0m                       Traceback (most recent call last)",
      "\u001b[0;32m<ipython-input-1-e33fb3606c53>\u001b[0m in \u001b[0;36m<module>\u001b[0;34m\u001b[0m\n\u001b[1;32m      1\u001b[0m \u001b[0;32mimport\u001b[0m \u001b[0mpytest\u001b[0m\u001b[0;34m\u001b[0m\u001b[0;34m\u001b[0m\u001b[0m\n\u001b[0;32m----> 2\u001b[0;31m \u001b[0;32mimport\u001b[0m \u001b[0mhls4ml\u001b[0m\u001b[0;34m\u001b[0m\u001b[0;34m\u001b[0m\u001b[0m\n\u001b[0m\u001b[1;32m      3\u001b[0m \u001b[0;32mimport\u001b[0m \u001b[0mtensorflow\u001b[0m \u001b[0;32mas\u001b[0m \u001b[0mtf\u001b[0m\u001b[0;34m\u001b[0m\u001b[0;34m\u001b[0m\u001b[0m\n\u001b[1;32m      4\u001b[0m \u001b[0;32mimport\u001b[0m \u001b[0mnumpy\u001b[0m \u001b[0;32mas\u001b[0m \u001b[0mnp\u001b[0m\u001b[0;34m\u001b[0m\u001b[0;34m\u001b[0m\u001b[0m\n\u001b[1;32m      5\u001b[0m \u001b[0;32mfrom\u001b[0m \u001b[0mtensorflow\u001b[0m\u001b[0;34m.\u001b[0m\u001b[0mkeras\u001b[0m \u001b[0;32mimport\u001b[0m \u001b[0moptimizers\u001b[0m\u001b[0;34m\u001b[0m\u001b[0;34m\u001b[0m\u001b[0m\n",
      "\u001b[0;31mModuleNotFoundError\u001b[0m: No module named 'hls4ml'"
     ]
    }
   ],
   "source": [
    "import pytest\n",
    "import hls4ml\n",
    "import tensorflow as tf \n",
    "import numpy as np\n",
    "from tensorflow.keras import optimizers\n",
    "from tensorflow.keras.layers import Input, Dense, Activation, Conv1D, Conv2D, \\\n",
    "                                    Reshape, ELU, LeakyReLU, ThresholdedReLU, \\\n",
    "                                    PReLU, BatchNormalization, Add, Subtract, \\\n",
    "                                    Multiply, Average, Maximum, Minimum, Concatenate, \\\n",
    "                                    MaxPooling1D, MaxPooling2D, AveragePooling1D, \\\n",
    "                                    AveragePooling2D\n",
    "import math                       \n",
    "def test_dense():\n",
    "    model = tf.keras.models.Sequential()\n",
    "    model.add(Dense(64, \n",
    "              input_shape=(1,), \n",
    "              name='Dense', \n",
    "              use_bias=True,\n",
    "              kernel_initializer='lecun_uniform',\n",
    "              bias_initializer='zeros', \n",
    "              kernel_regularizer=None,\n",
    "              bias_regularizer=None,\n",
    "              activity_regularizer=None, \n",
    "              kernel_constraint=None, \n",
    "              bias_constraint=None))\n",
    "    model.add(Activation(activation='elu', name='Activation'))\n",
    "    model.compile(optimizer='adam', loss='mse')\n",
    "\n",
    "    hls_model = hls4ml.converters.convert_from_keras_model(model)\n",
    "\n",
    "    assert len(model.layers) + 1 == len(hls_model.get_layers())\n",
    "    assert list(hls_model.get_layers())[0].attributes['class_name'] == \"InputLayer\"\n",
    "    assert list(hls_model.get_layers())[1].attributes[\"class_name\"] == model.layers[0]._name\n",
    "    assert list(hls_model.get_layers())[2].attributes['class_name'] == model.layers[1]._name\n",
    "    assert list(hls_model.get_layers())[0].attributes['input_shape'] == list(model.layers[0].input_shape[1:])\n",
    "    assert list(hls_model.get_layers())[1].attributes['n_in'] == model.layers[0].input_shape[1:][0]\n",
    "    assert list(hls_model.get_layers())[1].attributes['n_out'] == model.layers[0].output_shape[1:][0]\n",
    "    assert list(hls_model.get_layers())[2].attributes['activation'] == str(model.layers[1].activation).split()[1]\n",
    "    assert list(hls_model.get_layers())[1].attributes['activation'] == str(model.layers[0].activation).split()[1]\n",
    "\n",
    "    hls_model.write()\n",
    "    hls_model.compile()\n",
    "    \n",
    "    X = np.array([[1.0,]], np.float32)\n",
    "\n",
    "    keras_predictions = model.predict(X)\n",
    "    hls_predictions = hls_model.predict(X)\n",
    "    print()\n",
    "    print(keras_predictions)\n",
    "    # compare(keras_predictions, hls_predictions, epsilon=global_eps)\n",
    "    print()\n",
    "    print(hls_predictions)\n",
    "\n",
    "test_dense()"
   ]
  },
  {
   "cell_type": "code",
   "execution_count": null,
   "metadata": {},
   "outputs": [],
   "source": []
  }
 ],
 "metadata": {
  "kernelspec": {
   "display_name": "hls4ml",
   "language": "python",
   "name": "hls4ml"
  },
  "language_info": {
   "codemirror_mode": {
    "name": "ipython",
    "version": 3
   },
   "file_extension": ".py",
   "mimetype": "text/x-python",
   "name": "python",
   "nbconvert_exporter": "python",
   "pygments_lexer": "ipython3",
   "version": "3.7.4"
  }
 },
 "nbformat": 4,
 "nbformat_minor": 2
}
